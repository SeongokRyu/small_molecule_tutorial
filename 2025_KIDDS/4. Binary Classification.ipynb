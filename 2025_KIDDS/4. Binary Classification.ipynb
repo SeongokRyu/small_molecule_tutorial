{
 "cells": [
  {
   "cell_type": "code",
   "execution_count": 1,
   "id": "3b9f02c3-28b8-4276-9ac4-0a514fbb627e",
   "metadata": {},
   "outputs": [],
   "source": [
    "import time\n",
    "\n",
    "import numpy as np\n",
    "import pandas as pd\n",
    "\n",
    "from rdkit import Chem\n",
    "from rdkit.Chem import AllChem\n",
    "\n",
    "from sklearn.model_selection import train_test_split\n",
    "from sklearn.preprocessing import StandardScaler\n",
    "from sklearn.linear_model import LogisticRegression\n",
    "from sklearn.svm import SVC\n",
    "from sklearn.metrics import classification_report, accuracy_score"
   ]
  },
  {
   "cell_type": "code",
   "execution_count": 2,
   "id": "6a857d35-39e7-4638-9c5d-3e05184763f8",
   "metadata": {},
   "outputs": [],
   "source": [
    "def smiles_to_morgan_fingerprint(\n",
    "        smi,\n",
    "        radius=2,\n",
    "        n_bits=1024\n",
    "    ):\n",
    "    mol = Chem.MolFromSmiles(smi)\n",
    "    if mol:\n",
    "        return AllChem.GetMorganFingerprintAsBitVect(mol, radius, nBits=n_bits)\n",
    "    else:\n",
    "        return None"
   ]
  },
  {
   "cell_type": "markdown",
   "id": "a9f8eb44-c2a7-49a0-80aa-0f6255080c0b",
   "metadata": {},
   "source": [
    "# 1. Download (Prepare) the dataset to build binary classification models"
   ]
  },
  {
   "cell_type": "code",
   "execution_count": 3,
   "id": "980b8f76-f81a-4e15-92ed-ae14fded9c2e",
   "metadata": {},
   "outputs": [
    {
     "data": {
      "text/html": [
       "<div>\n",
       "<style scoped>\n",
       "    .dataframe tbody tr th:only-of-type {\n",
       "        vertical-align: middle;\n",
       "    }\n",
       "\n",
       "    .dataframe tbody tr th {\n",
       "        vertical-align: top;\n",
       "    }\n",
       "\n",
       "    .dataframe thead th {\n",
       "        text-align: right;\n",
       "    }\n",
       "</style>\n",
       "<table border=\"1\" class=\"dataframe\">\n",
       "  <thead>\n",
       "    <tr style=\"text-align: right;\">\n",
       "      <th></th>\n",
       "      <th>Drug_ID</th>\n",
       "      <th>Drug</th>\n",
       "      <th>Y</th>\n",
       "    </tr>\n",
       "  </thead>\n",
       "  <tbody>\n",
       "    <tr>\n",
       "      <th>0</th>\n",
       "      <td>Propanolol</td>\n",
       "      <td>CC(C)NCC(O)COc1cccc2ccccc12.[Cl]</td>\n",
       "      <td>1</td>\n",
       "    </tr>\n",
       "    <tr>\n",
       "      <th>1</th>\n",
       "      <td>Terbutylchlorambucil</td>\n",
       "      <td>CC(C)(C)OC(=O)CCCc1ccc(N(CCCl)CCCl)cc1</td>\n",
       "      <td>1</td>\n",
       "    </tr>\n",
       "    <tr>\n",
       "      <th>2</th>\n",
       "      <td>40730</td>\n",
       "      <td>CC1COc2c(N3CCN(C)CC3)c(F)cc3c(=O)c(C(=O)O)cn1c23</td>\n",
       "      <td>1</td>\n",
       "    </tr>\n",
       "    <tr>\n",
       "      <th>3</th>\n",
       "      <td>24</td>\n",
       "      <td>CC(=O)NCCCOc1cccc(CN2CCCCC2)c1</td>\n",
       "      <td>1</td>\n",
       "    </tr>\n",
       "    <tr>\n",
       "      <th>4</th>\n",
       "      <td>cloxacillin</td>\n",
       "      <td>Cc1onc(-c2ccccc2Cl)c1C(=O)N[C@@H]1C(=O)N2[C@@H...</td>\n",
       "      <td>1</td>\n",
       "    </tr>\n",
       "    <tr>\n",
       "      <th>...</th>\n",
       "      <td>...</td>\n",
       "      <td>...</td>\n",
       "      <td>...</td>\n",
       "    </tr>\n",
       "    <tr>\n",
       "      <th>2034</th>\n",
       "      <td>licostinel</td>\n",
       "      <td>O=c1[nH]c2cc(Cl)c(Cl)c([N+](=O)[O-])c2[nH]c1=O</td>\n",
       "      <td>1</td>\n",
       "    </tr>\n",
       "    <tr>\n",
       "      <th>2035</th>\n",
       "      <td>ademetionine(adenosyl-methionine)</td>\n",
       "      <td>C[S+](CC[C@H](N)C(=O)[O-])C[C@H]1O[C@@H](n2cnc...</td>\n",
       "      <td>1</td>\n",
       "    </tr>\n",
       "    <tr>\n",
       "      <th>2036</th>\n",
       "      <td>mesocarb</td>\n",
       "      <td>CC(Cc1ccccc1)n1cc([N-]C(=O)Nc2ccccc2)[o+]n1</td>\n",
       "      <td>1</td>\n",
       "    </tr>\n",
       "    <tr>\n",
       "      <th>2037</th>\n",
       "      <td>tofisoline</td>\n",
       "      <td>CCc1c(C)[n+]([NH-])c(-c2ccc(OC)c(OC)c2)c2cc(OC...</td>\n",
       "      <td>1</td>\n",
       "    </tr>\n",
       "    <tr>\n",
       "      <th>2038</th>\n",
       "      <td>azidamfenicol</td>\n",
       "      <td>[N-]=[N+]=NCC(=O)N[C@H](CO)[C@H](O)c1ccc([N+](...</td>\n",
       "      <td>1</td>\n",
       "    </tr>\n",
       "  </tbody>\n",
       "</table>\n",
       "<p>2039 rows × 3 columns</p>\n",
       "</div>"
      ],
      "text/plain": [
       "                                Drug_ID  \\\n",
       "0                            Propanolol   \n",
       "1                  Terbutylchlorambucil   \n",
       "2                                 40730   \n",
       "3                                    24   \n",
       "4                           cloxacillin   \n",
       "...                                 ...   \n",
       "2034                         licostinel   \n",
       "2035  ademetionine(adenosyl-methionine)   \n",
       "2036                           mesocarb   \n",
       "2037                         tofisoline   \n",
       "2038                      azidamfenicol   \n",
       "\n",
       "                                                   Drug  Y  \n",
       "0                      CC(C)NCC(O)COc1cccc2ccccc12.[Cl]  1  \n",
       "1                CC(C)(C)OC(=O)CCCc1ccc(N(CCCl)CCCl)cc1  1  \n",
       "2      CC1COc2c(N3CCN(C)CC3)c(F)cc3c(=O)c(C(=O)O)cn1c23  1  \n",
       "3                        CC(=O)NCCCOc1cccc(CN2CCCCC2)c1  1  \n",
       "4     Cc1onc(-c2ccccc2Cl)c1C(=O)N[C@@H]1C(=O)N2[C@@H...  1  \n",
       "...                                                 ... ..  \n",
       "2034     O=c1[nH]c2cc(Cl)c(Cl)c([N+](=O)[O-])c2[nH]c1=O  1  \n",
       "2035  C[S+](CC[C@H](N)C(=O)[O-])C[C@H]1O[C@@H](n2cnc...  1  \n",
       "2036        CC(Cc1ccccc1)n1cc([N-]C(=O)Nc2ccccc2)[o+]n1  1  \n",
       "2037  CCc1c(C)[n+]([NH-])c(-c2ccc(OC)c(OC)c2)c2cc(OC...  1  \n",
       "2038  [N-]=[N+]=NCC(=O)N[C@H](CO)[C@H](O)c1ccc([N+](...  1  \n",
       "\n",
       "[2039 rows x 3 columns]"
      ]
     },
     "execution_count": 3,
     "metadata": {},
     "output_type": "execute_result"
    }
   ],
   "source": [
    "'''\n",
    "Download BBBP dataset from Therapeutic Data Commons\n",
    "I loaded the prepared BBBP dataset in my local directory.\n",
    "'''\n",
    "data = pd.read_csv('/home/seongok/works/practice/gnn_lawa/data/bbbp.tab', sep='\\t')\n",
    "data"
   ]
  },
  {
   "cell_type": "markdown",
   "id": "b2ff900e-a048-4cab-84f1-27c976902d5e",
   "metadata": {},
   "source": [
    "# 2. Convert SMILES representation to Fingerprint (digitized vector representation)"
   ]
  },
  {
   "cell_type": "code",
   "execution_count": 4,
   "id": "28cd9b88-0681-48e7-ae78-82c79dcad533",
   "metadata": {},
   "outputs": [
    {
     "name": "stderr",
     "output_type": "stream",
     "text": [
      "[16:35:43] WARNING: not removing hydrogen atom without neighbors\n",
      "[16:35:43] WARNING: not removing hydrogen atom without neighbors\n",
      "[16:35:43] WARNING: not removing hydrogen atom without neighbors\n",
      "[16:35:43] WARNING: not removing hydrogen atom without neighbors\n",
      "[16:35:43] WARNING: not removing hydrogen atom without neighbors\n",
      "[16:35:43] WARNING: not removing hydrogen atom without neighbors\n",
      "[16:35:43] WARNING: not removing hydrogen atom without neighbors\n",
      "[16:35:43] WARNING: not removing hydrogen atom without neighbors\n",
      "[16:35:43] WARNING: not removing hydrogen atom without neighbors\n",
      "[16:35:43] WARNING: not removing hydrogen atom without neighbors\n",
      "[16:35:43] WARNING: not removing hydrogen atom without neighbors\n",
      "[16:35:43] WARNING: not removing hydrogen atom without neighbors\n",
      "[16:35:43] WARNING: not removing hydrogen atom without neighbors\n",
      "[16:35:43] WARNING: not removing hydrogen atom without neighbors\n",
      "[16:35:43] WARNING: not removing hydrogen atom without neighbors\n",
      "[16:35:43] WARNING: not removing hydrogen atom without neighbors\n",
      "[16:35:43] WARNING: not removing hydrogen atom without neighbors\n",
      "[16:35:43] WARNING: not removing hydrogen atom without neighbors\n",
      "[16:35:43] WARNING: not removing hydrogen atom without neighbors\n",
      "[16:35:43] WARNING: not removing hydrogen atom without neighbors\n",
      "[16:35:43] WARNING: not removing hydrogen atom without neighbors\n",
      "[16:35:43] WARNING: not removing hydrogen atom without neighbors\n",
      "[16:35:43] WARNING: not removing hydrogen atom without neighbors\n",
      "[16:35:43] WARNING: not removing hydrogen atom without neighbors\n",
      "[16:35:43] WARNING: not removing hydrogen atom without neighbors\n",
      "[16:35:43] WARNING: not removing hydrogen atom without neighbors\n",
      "[16:35:43] WARNING: not removing hydrogen atom without neighbors\n",
      "[16:35:43] WARNING: not removing hydrogen atom without neighbors\n",
      "[16:35:44] WARNING: not removing hydrogen atom without neighbors\n",
      "[16:35:44] WARNING: not removing hydrogen atom without neighbors\n",
      "[16:35:44] WARNING: not removing hydrogen atom without neighbors\n",
      "[16:35:44] WARNING: not removing hydrogen atom without neighbors\n",
      "[16:35:44] WARNING: not removing hydrogen atom without neighbors\n",
      "[16:35:44] WARNING: not removing hydrogen atom without neighbors\n",
      "[16:35:44] WARNING: not removing hydrogen atom without neighbors\n",
      "[16:35:44] WARNING: not removing hydrogen atom without neighbors\n",
      "[16:35:44] WARNING: not removing hydrogen atom without neighbors\n",
      "[16:35:44] WARNING: not removing hydrogen atom without neighbors\n",
      "[16:35:44] WARNING: not removing hydrogen atom without neighbors\n",
      "[16:35:44] WARNING: not removing hydrogen atom without neighbors\n"
     ]
    }
   ],
   "source": [
    "fingerprints = []\n",
    "labels = []\n",
    "for index, row in data.iterrows():\n",
    "    fingerprint = smiles_to_morgan_fingerprint(row['Drug'])\n",
    "    if fingerprint is not None:\n",
    "        fingerprints.append(fingerprint)\n",
    "        labels.append(row['Y'])\n",
    "\n",
    "# Convert fingerprints to NumPy arrays\n",
    "X = np.array([np.array(fp) for fp in fingerprints])\n",
    "y = np.array(labels)"
   ]
  },
  {
   "cell_type": "code",
   "execution_count": 5,
   "id": "172cfdf7-0d41-4ee4-a2d7-5d9a13d5d3aa",
   "metadata": {},
   "outputs": [
    {
     "data": {
      "text/plain": [
       "(array([[0, 1, 0, ..., 0, 0, 0],\n",
       "        [0, 0, 0, ..., 0, 0, 0],\n",
       "        [0, 0, 0, ..., 1, 0, 0],\n",
       "        ...,\n",
       "        [0, 1, 0, ..., 0, 0, 0],\n",
       "        [0, 0, 0, ..., 0, 0, 0],\n",
       "        [0, 1, 0, ..., 0, 0, 0]]),\n",
       " (2039, 1024))"
      ]
     },
     "execution_count": 5,
     "metadata": {},
     "output_type": "execute_result"
    }
   ],
   "source": [
    "X, X.shape"
   ]
  },
  {
   "cell_type": "code",
   "execution_count": 6,
   "id": "09110fc3-91e2-47ce-aa56-79395868e837",
   "metadata": {},
   "outputs": [
    {
     "data": {
      "text/plain": [
       "(array([1, 1, 1, ..., 1, 1, 1]), (2039,))"
      ]
     },
     "execution_count": 6,
     "metadata": {},
     "output_type": "execute_result"
    }
   ],
   "source": [
    "y, y.shape"
   ]
  },
  {
   "cell_type": "markdown",
   "id": "f231678e-5cb0-4b8d-a67d-72c354ed0030",
   "metadata": {},
   "source": [
    "# 3. Split the dataset"
   ]
  },
  {
   "cell_type": "code",
   "execution_count": 7,
   "id": "70d37f0d-1bc3-4811-88bf-12820832d639",
   "metadata": {},
   "outputs": [],
   "source": [
    "X_train, X_test, y_train, y_test = train_test_split(X, y, test_size=0.2, random_state=2025, stratify=y)"
   ]
  },
  {
   "cell_type": "code",
   "execution_count": 8,
   "id": "17a11815-b082-4610-aab1-2a125bd9fe01",
   "metadata": {},
   "outputs": [
    {
     "data": {
      "text/plain": [
       "((1631, 1024), (1631,))"
      ]
     },
     "execution_count": 8,
     "metadata": {},
     "output_type": "execute_result"
    }
   ],
   "source": [
    "X_train.shape, y_train.shape"
   ]
  },
  {
   "cell_type": "code",
   "execution_count": 9,
   "id": "c003bc68-545f-4219-b0df-61f056d0950e",
   "metadata": {},
   "outputs": [
    {
     "data": {
      "text/plain": [
       "((408, 1024), (408,))"
      ]
     },
     "execution_count": 9,
     "metadata": {},
     "output_type": "execute_result"
    }
   ],
   "source": [
    "X_test.shape, y_test.shape"
   ]
  },
  {
   "cell_type": "markdown",
   "id": "39625606-d8a0-4f90-a1ea-046229cdf889",
   "metadata": {},
   "source": [
    "# 4. (Optional) Scaling the input vectors"
   ]
  },
  {
   "cell_type": "code",
   "execution_count": 10,
   "id": "eb16d53b-b627-4ed4-b0e2-b3eee819fd7c",
   "metadata": {},
   "outputs": [],
   "source": [
    "# Normalize the data for better SVM performance\n",
    "scaler = StandardScaler()\n",
    "X_train_scaled = scaler.fit_transform(X_train)\n",
    "X_test_scaled = scaler.transform(X_test)"
   ]
  },
  {
   "cell_type": "code",
   "execution_count": 11,
   "id": "346970ad-fb72-4e11-ad5e-bf6d8592f0a1",
   "metadata": {},
   "outputs": [
    {
     "data": {
      "text/plain": [
       "(array([-0.10856611, -0.56059138,  4.5869969 , ..., -0.18326707,\n",
       "        -0.13454506, -0.10262961]),\n",
       " array([-0.10856611, -0.56059138, -0.21800756, ..., -0.18326707,\n",
       "        -0.13454506, -0.10262961]))"
      ]
     },
     "execution_count": 11,
     "metadata": {},
     "output_type": "execute_result"
    }
   ],
   "source": [
    "X_train_scaled[0], X_test_scaled[0]"
   ]
  },
  {
   "cell_type": "markdown",
   "id": "f9f498b9-909b-491e-b565-12b6aaab3d0b",
   "metadata": {},
   "source": [
    "# 5. Logistic Regression"
   ]
  },
  {
   "cell_type": "code",
   "execution_count": 12,
   "id": "ca182144-0a0f-45d7-b374-5abe2c8e21ed",
   "metadata": {},
   "outputs": [],
   "source": [
    "# Logistic Regression Model with scaling\n",
    "st = time.time()\n",
    "log_reg = LogisticRegression(max_iter=1000)\n",
    "log_reg.fit(X_train_scaled, y_train)\n",
    "y_pred_log_reg = log_reg.predict(X_test_scaled)\n",
    "et = time.time()"
   ]
  },
  {
   "cell_type": "code",
   "execution_count": 13,
   "id": "1a7d2218-137e-4803-b783-fca6427fb753",
   "metadata": {},
   "outputs": [
    {
     "data": {
      "text/plain": [
       "0.8161764705882353"
      ]
     },
     "execution_count": 13,
     "metadata": {},
     "output_type": "execute_result"
    }
   ],
   "source": [
    "accuracy_score(y_test, y_pred_log_reg)"
   ]
  },
  {
   "cell_type": "code",
   "execution_count": 14,
   "id": "3a3f8e72-9112-4902-bcd4-7d6626d8d700",
   "metadata": {},
   "outputs": [
    {
     "name": "stdout",
     "output_type": "stream",
     "text": [
      "              precision    recall  f1-score   support\n",
      "\n",
      "           0       0.62      0.57      0.59        96\n",
      "           1       0.87      0.89      0.88       312\n",
      "\n",
      "    accuracy                           0.82       408\n",
      "   macro avg       0.74      0.73      0.74       408\n",
      "weighted avg       0.81      0.82      0.81       408\n",
      "\n"
     ]
    }
   ],
   "source": [
    "print(classification_report(y_test, y_pred_log_reg))"
   ]
  },
  {
   "cell_type": "code",
   "execution_count": 15,
   "id": "3a9b2bcc-3fdc-448a-8bd2-51b1a1b67f37",
   "metadata": {},
   "outputs": [
    {
     "name": "stdout",
     "output_type": "stream",
     "text": [
      "Time for logistic regression 0.26 (s)\n"
     ]
    }
   ],
   "source": [
    "print (\"Time for logistic regression\", round(et-st, 2), \"(s)\")"
   ]
  },
  {
   "cell_type": "code",
   "execution_count": 16,
   "id": "70c87665-31a2-45e6-8ac9-5f119cac4d50",
   "metadata": {},
   "outputs": [],
   "source": [
    "# Logistic Regression Model without scaling\n",
    "st = time.time()\n",
    "log_reg = LogisticRegression(max_iter=1000)\n",
    "log_reg.fit(X_train, y_train)\n",
    "y_pred_log_reg = log_reg.predict(X_test)\n",
    "et = time.time()"
   ]
  },
  {
   "cell_type": "code",
   "execution_count": 17,
   "id": "18926b43-087e-411d-ab67-ee7bc9770c65",
   "metadata": {},
   "outputs": [
    {
     "data": {
      "text/plain": [
       "0.875"
      ]
     },
     "execution_count": 17,
     "metadata": {},
     "output_type": "execute_result"
    }
   ],
   "source": [
    "accuracy_score(y_test, y_pred_log_reg)"
   ]
  },
  {
   "cell_type": "code",
   "execution_count": 18,
   "id": "0aed5d72-20c9-4691-8527-5d4fef36985b",
   "metadata": {},
   "outputs": [
    {
     "name": "stdout",
     "output_type": "stream",
     "text": [
      "              precision    recall  f1-score   support\n",
      "\n",
      "           0       0.78      0.65      0.71        96\n",
      "           1       0.90      0.95      0.92       312\n",
      "\n",
      "    accuracy                           0.88       408\n",
      "   macro avg       0.84      0.80      0.81       408\n",
      "weighted avg       0.87      0.88      0.87       408\n",
      "\n"
     ]
    }
   ],
   "source": [
    "print(classification_report(y_test, y_pred_log_reg))"
   ]
  },
  {
   "cell_type": "code",
   "execution_count": 19,
   "id": "fd9ebcce-629e-40f3-bf58-1422c41eec62",
   "metadata": {},
   "outputs": [
    {
     "name": "stdout",
     "output_type": "stream",
     "text": [
      "Time for logistic regression 0.08 (s)\n"
     ]
    }
   ],
   "source": [
    "print (\"Time for logistic regression\", round(et-st, 2), \"(s)\")"
   ]
  },
  {
   "cell_type": "markdown",
   "id": "55f08266-4a80-4ef4-8e74-eeedc715ba4f",
   "metadata": {},
   "source": [
    "# 6. Support vector machine "
   ]
  },
  {
   "cell_type": "code",
   "execution_count": 20,
   "id": "75737857-ff29-4412-b708-706a5378605f",
   "metadata": {},
   "outputs": [],
   "source": [
    "# Support Vector Machine Model without scaling\n",
    "st = time.time()\n",
    "svm_model = SVC(kernel='rbf', probability=True)\n",
    "svm_model.fit(X_train, y_train)\n",
    "y_pred_svm = svm_model.predict(X_test)\n",
    "et = time.time()"
   ]
  },
  {
   "cell_type": "code",
   "execution_count": 21,
   "id": "1a2492c2-a814-426b-b34a-771bb4d27622",
   "metadata": {},
   "outputs": [
    {
     "data": {
      "text/plain": [
       "0.8676470588235294"
      ]
     },
     "execution_count": 21,
     "metadata": {},
     "output_type": "execute_result"
    }
   ],
   "source": [
    "accuracy_score(y_test, y_pred_svm)"
   ]
  },
  {
   "cell_type": "code",
   "execution_count": 22,
   "id": "14047442-c4c8-47f6-84aa-2f32a6fb4b29",
   "metadata": {},
   "outputs": [
    {
     "name": "stdout",
     "output_type": "stream",
     "text": [
      "              precision    recall  f1-score   support\n",
      "\n",
      "           0       0.79      0.59      0.68        96\n",
      "           1       0.88      0.95      0.92       312\n",
      "\n",
      "    accuracy                           0.87       408\n",
      "   macro avg       0.84      0.77      0.80       408\n",
      "weighted avg       0.86      0.87      0.86       408\n",
      "\n"
     ]
    }
   ],
   "source": [
    "print(classification_report(y_test, y_pred_svm))"
   ]
  },
  {
   "cell_type": "code",
   "execution_count": 23,
   "id": "51fbf2e2-0c88-4e3c-ab16-2d0b8171ffc2",
   "metadata": {},
   "outputs": [
    {
     "name": "stdout",
     "output_type": "stream",
     "text": [
      "Time for support vector machine 4.71 (s)\n"
     ]
    }
   ],
   "source": [
    "print (\"Time for support vector machine\", round(et-st, 2), \"(s)\")"
   ]
  },
  {
   "cell_type": "code",
   "execution_count": 24,
   "id": "049822ff-242c-4d39-97ac-f5d1d775b527",
   "metadata": {},
   "outputs": [],
   "source": [
    "# Support Vector Machine Model with scaling\n",
    "st = time.time()\n",
    "svm_model = SVC(kernel='rbf', probability=True)\n",
    "svm_model.fit(X_train_scaled, y_train)\n",
    "y_pred_svm = svm_model.predict(X_test_scaled)\n",
    "et = time.time()"
   ]
  },
  {
   "cell_type": "code",
   "execution_count": 25,
   "id": "805bf1e9-09c7-4c3a-9455-f471171ab7c2",
   "metadata": {},
   "outputs": [
    {
     "data": {
      "text/plain": [
       "0.8700980392156863"
      ]
     },
     "execution_count": 25,
     "metadata": {},
     "output_type": "execute_result"
    }
   ],
   "source": [
    "accuracy_score(y_test, y_pred_svm)"
   ]
  },
  {
   "cell_type": "code",
   "execution_count": 26,
   "id": "0528a2ea-940b-4ce7-9cb3-1ca83856e6cf",
   "metadata": {},
   "outputs": [
    {
     "name": "stdout",
     "output_type": "stream",
     "text": [
      "              precision    recall  f1-score   support\n",
      "\n",
      "           0       0.84      0.55      0.67        96\n",
      "           1       0.88      0.97      0.92       312\n",
      "\n",
      "    accuracy                           0.87       408\n",
      "   macro avg       0.86      0.76      0.79       408\n",
      "weighted avg       0.87      0.87      0.86       408\n",
      "\n"
     ]
    }
   ],
   "source": [
    "print(classification_report(y_test, y_pred_svm))"
   ]
  },
  {
   "cell_type": "code",
   "execution_count": 27,
   "id": "0cb9bd63-d03f-46d4-a06f-fa2836a93ad3",
   "metadata": {},
   "outputs": [
    {
     "name": "stdout",
     "output_type": "stream",
     "text": [
      "Time for support vector machine 5.85 (s)\n"
     ]
    }
   ],
   "source": [
    "print (\"Time for support vector machine\", round(et-st, 2), \"(s)\")"
   ]
  },
  {
   "cell_type": "markdown",
   "id": "ef82a415-1db0-4750-ac5b-7443e09e9661",
   "metadata": {},
   "source": [
    "# 7. Evaluation of classification results"
   ]
  },
  {
   "cell_type": "code",
   "execution_count": 28,
   "id": "c07909b7-a698-45ea-8663-1bea862639a9",
   "metadata": {},
   "outputs": [],
   "source": [
    "from sklearn.metrics import accuracy_score\n",
    "from sklearn.metrics import roc_auc_score\n",
    "from sklearn.metrics import precision_score\n",
    "from sklearn.metrics import recall_score"
   ]
  },
  {
   "cell_type": "code",
   "execution_count": 29,
   "id": "497e0022-dfe3-4678-8113-6b70761fb487",
   "metadata": {},
   "outputs": [],
   "source": [
    "def binary_classification_evaluation(y_true, y_pred, prob_pred):\n",
    "    accuracy = accuracy_score(y_true, y_pred)\n",
    "    auroc = roc_auc_score(y_true, prob_pred)\n",
    "    precision = precision_score(y_true, y_pred)\n",
    "    recall = recall_score(y_true, y_pred)\n",
    "    f1_score = 2.0 * precision * recall / (precision + recall)\n",
    "    print (\"Accuracy:\", round(accuracy, 3), \\\n",
    "            \"AUROC:\", round(auroc, 3), \\\n",
    "            \"Precision:\", round(precision, 3), \\\n",
    "            \"Recall:\", round(recall, 3), \n",
    "            \"F1-score:\", round(f1_score, 3))"
   ]
  },
  {
   "cell_type": "code",
   "execution_count": 30,
   "id": "75755be5-8f89-4e8a-9b6f-f991f7df1746",
   "metadata": {},
   "outputs": [],
   "source": [
    "prob_log_reg = log_reg.predict_proba(X_test)[:,1]\n",
    "prob_svm = svm_model.predict_proba(X_test_scaled)[:,1]"
   ]
  },
  {
   "cell_type": "code",
   "execution_count": 31,
   "id": "d31936f6-b0f6-48bd-a113-62055bee5064",
   "metadata": {},
   "outputs": [
    {
     "data": {
      "text/plain": [
       "array([1, 1, 1, 1, 1, 1, 1, 1, 1, 1])"
      ]
     },
     "execution_count": 31,
     "metadata": {},
     "output_type": "execute_result"
    }
   ],
   "source": [
    "y_pred_log_reg[:10]"
   ]
  },
  {
   "cell_type": "code",
   "execution_count": 32,
   "id": "35d2aff7-3e29-40c4-8b5f-4c713cfc5fb4",
   "metadata": {},
   "outputs": [
    {
     "data": {
      "text/plain": [
       "array([0.99894507, 0.85632137, 0.98659127, 0.99604004, 0.96453993,\n",
       "       0.91856059, 0.9849731 , 0.96445524, 0.97751915, 0.99270484])"
      ]
     },
     "execution_count": 32,
     "metadata": {},
     "output_type": "execute_result"
    }
   ],
   "source": [
    "prob_log_reg[:10]"
   ]
  },
  {
   "cell_type": "code",
   "execution_count": 33,
   "id": "8a8c7f03-a368-429d-89ab-5ca540b20468",
   "metadata": {},
   "outputs": [
    {
     "name": "stdout",
     "output_type": "stream",
     "text": [
      "Accuracy: 0.875 AUROC: 0.87 Precision: 0.897 Recall: 0.946 F1-score: 0.92\n"
     ]
    }
   ],
   "source": [
    "# Logistic regression\n",
    "binary_classification_evaluation(y_true=y_test, y_pred=y_pred_log_reg, prob_pred=prob_log_reg)"
   ]
  },
  {
   "cell_type": "code",
   "execution_count": 34,
   "id": "4bc19c5e-c492-4bc5-bfc2-d387917182d5",
   "metadata": {},
   "outputs": [
    {
     "name": "stdout",
     "output_type": "stream",
     "text": [
      "Accuracy: 0.87 AUROC: 0.886 Precision: 0.875 Recall: 0.968 F1-score: 0.919\n"
     ]
    }
   ],
   "source": [
    "# Support vector machine\n",
    "binary_classification_evaluation(y_true=y_test, y_pred=y_pred_svm, prob_pred=prob_svm)"
   ]
  },
  {
   "cell_type": "markdown",
   "id": "cb902e6d-2fa8-468f-a567-9df3a89722a2",
   "metadata": {},
   "source": [
    "# 8. Calibration curve and Expected Calibration Error (ECE)"
   ]
  },
  {
   "cell_type": "code",
   "execution_count": 35,
   "id": "d550fc54-528d-4685-bb66-ec346ca4e51f",
   "metadata": {},
   "outputs": [],
   "source": [
    "import matplotlib.pyplot as plt"
   ]
  },
  {
   "cell_type": "code",
   "execution_count": 36,
   "id": "a554cb3b-f6fc-4813-a2cd-eb6151518220",
   "metadata": {},
   "outputs": [],
   "source": [
    "def calibration(\n",
    "        label,\n",
    "        pred,\n",
    "        bins=10\n",
    "    ):\n",
    "\n",
    "    width = 1.0 / bins\n",
    "    bin_centers = np.linspace(0, 1.0-width, bins) + width/2\n",
    "\n",
    "    conf_bin = []\n",
    "    acc_bin = []\n",
    "    counts = []\n",
    "    for i, threshold in enumerate(bin_centers):\n",
    "        bin_idx = np.logical_and(\n",
    "            threshold - width/2 < pred,\n",
    "            pred <= threshold + width\n",
    "        )\n",
    "        conf_mean = pred[bin_idx].mean()\n",
    "        conf_sum = pred[bin_idx].sum()\n",
    "        if (conf_mean != conf_mean) == False:\n",
    "            conf_bin.append(conf_mean)\n",
    "            counts.append(pred[bin_idx].shape[0])\n",
    "\n",
    "        acc_mean = label[bin_idx].mean()\n",
    "        acc_sum = label[bin_idx].sum()\n",
    "        if (acc_mean != acc_mean) == False:\n",
    "            acc_bin.append(acc_mean)\n",
    "\n",
    "    conf_bin = np.asarray(conf_bin)\n",
    "    acc_bin = np.asarray(acc_bin)\n",
    "    counts = np.asarray(counts)\n",
    "\n",
    "    ece = np.abs(conf_bin - acc_bin)\n",
    "    ece = np.multiply(ece, counts)\n",
    "    ece = ece.sum()\n",
    "    ece /= np.sum(counts)\n",
    "    return conf_bin, acc_bin, ece"
   ]
  },
  {
   "cell_type": "code",
   "execution_count": 37,
   "id": "8e535d6e-e99e-490c-8cb5-e4b21f59817e",
   "metadata": {},
   "outputs": [],
   "source": [
    "bins = 10"
   ]
  },
  {
   "cell_type": "code",
   "execution_count": 38,
   "id": "b4e77e05-c182-4a6d-96de-2dd8a0c1be37",
   "metadata": {},
   "outputs": [
    {
     "data": {
      "text/plain": [
       "0.06332570673035513"
      ]
     },
     "execution_count": 38,
     "metadata": {},
     "output_type": "execute_result"
    }
   ],
   "source": [
    "conf_lr, acc_lr, ece_lr = calibration(y_test, prob_log_reg, bins=bins)\n",
    "ece_lr"
   ]
  },
  {
   "cell_type": "code",
   "execution_count": 39,
   "id": "d5d2a7fe-5291-4606-9cdd-d4827ae09c4a",
   "metadata": {},
   "outputs": [
    {
     "data": {
      "text/plain": [
       "0.02786626605482945"
      ]
     },
     "execution_count": 39,
     "metadata": {},
     "output_type": "execute_result"
    }
   ],
   "source": [
    "conf_svm, acc_svm, ece_svm = calibration(y_test, prob_svm, bins=bins)\n",
    "ece_svm"
   ]
  },
  {
   "cell_type": "code",
   "execution_count": 40,
   "id": "df61c7a2-a39a-46e4-879d-fb84b5836bf7",
   "metadata": {},
   "outputs": [
    {
     "data": {
      "image/png": "[encoded data removed]",
      "text/plain": [
       "<Figure size 640x480 with 1 Axes>"
      ]
     },
     "metadata": {},
     "output_type": "display_data"
    }
   ],
   "source": [
    "plt.figure()\n",
    "plt.plot([0,1], [0,1], '--', c='k', label='Perfect calibration')\n",
    "plt.plot(conf_lr, acc_lr, '-o', label='Logistic regression, ECE=' + str(round(ece_lr, 3)))\n",
    "plt.plot(conf_svm, acc_svm, '-o', label='Support vector machine, ECE=' + str(round(ece_svm, 3)))\n",
    "\n",
    "plt.xlabel('Mean predicted probability', fontsize=12)\n",
    "plt.ylabel('Fraction of positives', fontsize=12)\n",
    "plt.legend(fontsize=12)\n",
    "plt.tight_layout()"
   ]
  }
 ],
 "metadata": {
  "kernelspec": {
   "display_name": "Python 3 (ipykernel)",
   "language": "python",
   "name": "python3"
  },
  "language_info": {
   "codemirror_mode": {
    "name": "ipython",
    "version": 3
   },
   "file_extension": ".py",
   "mimetype": "text/x-python",
   "name": "python",
   "nbconvert_exporter": "python",
   "pygments_lexer": "ipython3",
   "version": "3.10.13"
  }
 },
 "nbformat": 4,
 "nbformat_minor": 5
}
