{
 "cells": [
  {
   "cell_type": "markdown",
   "id": "a82515f3-e4f8-495c-8a6b-76307f5831a1",
   "metadata": {},
   "source": [
    "Before starting this practice, visit the PLIP site to investigate what PLIP actually analyzes\n",
    "- https://plip-tool.biotec.tu-dresden.de/plip-web/plip/index"
   ]
  },
  {
   "cell_type": "code",
   "execution_count": 1,
   "id": "04c63a0f-00a1-4d66-a870-e422477c2388",
   "metadata": {},
   "outputs": [
    {
     "data": {
      "application/vnd.jupyter.widget-view+json": {
       "model_id": "4fa9dcd65268465fa32ab0798bb19a99",
       "version_major": 2,
       "version_minor": 0
      },
      "text/plain": []
     },
     "metadata": {},
     "output_type": "display_data"
    }
   ],
   "source": [
    "import os\n",
    "import pandas as pd\n",
    "import nglview as nv\n",
    "\n",
    "from Bio.PDB import PDBParser, PDBIO\n",
    "from Bio.PDB.MMCIFParser import MMCIFParser\n",
    "from Bio.PDB.Structure import Structure\n",
    "from Bio.PDB.Chain import Chain\n",
    "from Bio.PDB.Model import Model\n",
    "from Bio.PDB.Atom import Atom\n",
    "from Bio.PDB.Residue import Residue\n",
    "from openbabel import pybel\n",
    "\n",
    "from plip.structure.preparation import PDBComplex"
   ]
  },
  {
   "cell_type": "code",
   "execution_count": 2,
   "id": "da0bbd3b-b471-45cf-ae38-cf9bf8a338ee",
   "metadata": {},
   "outputs": [],
   "source": [
    "dir_ = '/home/seongok/works/practice/small_molecule_tutorial/2025_KIDDS'\n",
    "\n",
    "receptor_path = os.path.join(dir_, 'receptor.pdb')\n",
    "ligand_mol2_path = os.path.join(dir_, 'ligands.mol2')\n",
    "complex_path = os.path.join(dir_, 'complex.pdb')"
   ]
  },
  {
   "cell_type": "markdown",
   "id": "8b3ee5b9-c4dd-4ca7-ac60-774eea5b6571",
   "metadata": {},
   "source": [
    "# 1. Merge receptor and ligand into a single complex PDB"
   ]
  },
  {
   "cell_type": "code",
   "execution_count": 3,
   "id": "53bcb9d0-082c-4fd8-97c8-f769e28e78f8",
   "metadata": {},
   "outputs": [],
   "source": [
    "def prepare_complex(\n",
    "        dir_,\n",
    "        ligand_mol2_path,\n",
    "        receptor_path,\n",
    "        complex_path,\n",
    "        pose_idx,\n",
    "    ):\n",
    "    prefix, format_ = ligand_mol2_path.split('.')\n",
    "    m = list(pybel.readfile(format_, ligand_mol2_path))[pose_idx]\n",
    "    m.addh()\n",
    "\n",
    "    ligand_pdb = prefix + '.pdb'\n",
    "    m.write('pdb', ligand_pdb, overwrite=True)\n",
    "\n",
    "    f_ligand = open(ligand_pdb, 'r')\n",
    "    ligand_lines = f_ligand.readlines()\n",
    "    f_ligand.close()\n",
    "\n",
    "    f_receptor = open(receptor_path, 'r')\n",
    "    receptor_lines = f_receptor.readlines()\n",
    "    f_receptor.close()\n",
    "\n",
    "    f = open(complex_path, 'w')\n",
    "    for line in receptor_lines:\n",
    "        if line.startswith('ATOM') or line.startswith('HETATM') or line.startswith('TER'):\n",
    "            f.write(line)\n",
    "    f.write('TER\\n')\n",
    "    for line in ligand_lines[2:]:\n",
    "        if line.startswith('ATOM') or line.startswith('HETATM'):\n",
    "            f.write(line)\n",
    "    f.write('END\\n')\n",
    "    f.close()"
   ]
  },
  {
   "cell_type": "code",
   "execution_count": 4,
   "id": "80cffff9-dea5-4da6-a8b2-d28fda9c2c1c",
   "metadata": {},
   "outputs": [],
   "source": [
    "prepare_complex(\n",
    "    dir_=dir_,\n",
    "    ligand_mol2_path=ligand_mol2_path,\n",
    "    receptor_path=receptor_path,\n",
    "    complex_path=complex_path,\n",
    "    pose_idx=0\n",
    ")"
   ]
  },
  {
   "cell_type": "code",
   "execution_count": 5,
   "id": "90c396f6-46b5-4316-9141-5d1e902f328b",
   "metadata": {},
   "outputs": [],
   "source": [
    "f = open(complex_path, 'r')\n",
    "lines = f.readlines()\n",
    "f.close()"
   ]
  },
  {
   "cell_type": "markdown",
   "id": "58daafde-d261-4d1f-b62c-49aa3c5d3a27",
   "metadata": {},
   "source": [
    "# 2. PLIP analysis"
   ]
  },
  {
   "cell_type": "code",
   "execution_count": 6,
   "id": "617bc68f-4777-4862-b8ff-4664c09c7e88",
   "metadata": {},
   "outputs": [
    {
     "data": {
      "text/plain": [
       "{'MOL:A:1': <plip.structure.preparation.PLInteraction at 0x14837febff40>}"
      ]
     },
     "execution_count": 6,
     "metadata": {},
     "output_type": "execute_result"
    }
   ],
   "source": [
    "mol = PDBComplex()\n",
    "mol.load_pdb(complex_path)\n",
    "mol.analyze()\n",
    "\n",
    "interactions = mol.interaction_sets\n",
    "interactions"
   ]
  },
  {
   "cell_type": "code",
   "execution_count": 7,
   "id": "247a63f2-4794-49c0-9b17-3a2ea6527111",
   "metadata": {},
   "outputs": [
    {
     "data": {
      "text/plain": [
       "dict_keys(['MOL:A:1'])"
      ]
     },
     "execution_count": 7,
     "metadata": {},
     "output_type": "execute_result"
    }
   ],
   "source": [
    "key_list = interactions.keys()\n",
    "key_list"
   ]
  },
  {
   "cell_type": "markdown",
   "id": "b5b7f1ba-28d0-43ec-9dd6-002a66843a97",
   "metadata": {},
   "source": [
    "# 3. Extract interactions"
   ]
  },
  {
   "cell_type": "code",
   "execution_count": 8,
   "id": "a22a4e90-36ce-4425-a9ae-b3cf58ae5132",
   "metadata": {},
   "outputs": [],
   "source": [
    "def extract_interaction(\n",
    "        complex_pdb,\n",
    "        ligand_id='MOL'\n",
    "    ):\n",
    "    mol = PDBComplex()\n",
    "    mol.load_pdb(complex_pdb)\n",
    "    mol.analyze()\n",
    "\n",
    "    interactions = mol.interaction_sets\n",
    "    key_list = interactions.keys()\n",
    "    for key in key_list:\n",
    "        if ligand_id in key:\n",
    "            interaction = interactions[key]\n",
    "\n",
    "            res_list = []\n",
    "            for content in interaction.hbonds_ldon:\n",
    "                res_ = content.resnr\n",
    "                if res_ not in res_list:\n",
    "                    res_list.append(res_)\n",
    "            for content in interaction.hbonds_pdon:\n",
    "                res_ = content.resnr\n",
    "                if res_ not in res_list:\n",
    "                    res_list.append(res_)\n",
    "            res_list = sorted(res_list)\n",
    "            res_hbonds = ':'.join([str(res) for res in res_list])\n",
    "            n_hbonds = len(res_list)\n",
    "\n",
    "            res_list = []\n",
    "            for content in interaction.pication_laro:\n",
    "                res_ = content.resnr\n",
    "                if res_ not in res_list:\n",
    "                    res_list.append(res_)\n",
    "            for content in interaction.pication_paro:\n",
    "                res_ = content.resnr\n",
    "                if res_ not in res_list:\n",
    "                    res_list.append(res_)\n",
    "            res_list = sorted(res_list)\n",
    "            res_pication = ':'.join([str(res) for res in res_list])\n",
    "            n_pication = len(res_list)\n",
    "\n",
    "            res_list = []\n",
    "            for content in interaction.pistacking:\n",
    "                res_ = content.resnr\n",
    "                if res_ not in res_list:\n",
    "                    res_list.append(res_)\n",
    "            res_list = sorted(res_list)\n",
    "            res_pistack = ':'.join([str(res) for res in res_list])\n",
    "            n_pistack = len(res_list)\n",
    "\n",
    "            res_list = []\n",
    "            for content in interaction.hydrophobic_contacts:\n",
    "                res_ = content.resnr\n",
    "                if res_ not in res_list:\n",
    "                    res_list.append(res_)\n",
    "            res_list = sorted(res_list)\n",
    "            res_hydrophobic = ':'.join([str(res) for res in res_list])\n",
    "            n_hydrophobic = len(res_list)\n",
    "\n",
    "            res_list = []\n",
    "            for content in interaction.halogen_bonds:\n",
    "                res_ = content.resnr\n",
    "                if res_ not in res_list:\n",
    "                    res_list.append(res_)\n",
    "            res_list = sorted(res_list)\n",
    "            res_halogen = ':'.join([str(res) for res in res_list])\n",
    "            n_halogen = len(res_list)\n",
    "\n",
    "            output = [\n",
    "                n_hbonds,\n",
    "                n_pication,\n",
    "                n_pistack,\n",
    "                n_hydrophobic,\n",
    "                n_halogen,\n",
    "                res_hbonds,\n",
    "                res_pication,\n",
    "                res_pistack,\n",
    "                res_hydrophobic,\n",
    "                res_halogen,\n",
    "            ]\n",
    "            return output"
   ]
  },
  {
   "cell_type": "code",
   "execution_count": 9,
   "id": "f4a046a8-4d56-45b9-b6fa-a55d00ca9d41",
   "metadata": {},
   "outputs": [
    {
     "data": {
      "text/plain": [
       "[1, 0, 1, 5, 0, '905', '', '905', '884:890:901:902:905', '']"
      ]
     },
     "execution_count": 9,
     "metadata": {},
     "output_type": "execute_result"
    }
   ],
   "source": [
    "extract_interaction(complex_path)"
   ]
  },
  {
   "cell_type": "markdown",
   "id": "182cd4c7-4495-412c-a009-feb2a89b1cb5",
   "metadata": {},
   "source": [
    "# 4. Analyze for all ligands"
   ]
  },
  {
   "cell_type": "code",
   "execution_count": 10,
   "id": "ba0d35f8-e2cd-438c-b729-d1cd68023844",
   "metadata": {},
   "outputs": [
    {
     "data": {
      "text/plain": [
       "16"
      ]
     },
     "execution_count": 10,
     "metadata": {},
     "output_type": "execute_result"
    }
   ],
   "source": [
    "m = list(pybel.readfile('mol2', ligand_mol2_path))\n",
    "len(m)"
   ]
  },
  {
   "cell_type": "code",
   "execution_count": 11,
   "id": "08104c8d-52c1-4fbe-95f1-38c0eca1db03",
   "metadata": {},
   "outputs": [],
   "source": [
    "profile_list = []\n",
    "for idx in range(len(m)):\n",
    "    complex_path = os.path.join(dir_, 'complex_'+str(idx)+'.pdb')\n",
    "    prepare_complex(\n",
    "        dir_=dir_,\n",
    "        ligand_mol2_path=ligand_mol2_path,\n",
    "        receptor_path=receptor_path,\n",
    "        complex_path=complex_path,\n",
    "        pose_idx=idx\n",
    "    )\n",
    "\n",
    "    profile = extract_interaction(complex_path)\n",
    "    profile_list.append(profile)\n",
    "    os.system('rm ' + complex_path) # To remove complex PDB"
   ]
  },
  {
   "cell_type": "code",
   "execution_count": 12,
   "id": "fb40b24d-0cae-4fbd-83c1-fa6c813bcf8a",
   "metadata": {},
   "outputs": [
    {
     "data": {
      "text/plain": [
       "[1, 0, 1, 5, 0, '905', '', '905', '884:890:901:902:905', '']"
      ]
     },
     "execution_count": 12,
     "metadata": {},
     "output_type": "execute_result"
    }
   ],
   "source": [
    "profile_list[0]"
   ]
  },
  {
   "cell_type": "code",
   "execution_count": 13,
   "id": "53afef15-6119-459a-a919-4771fecc6409",
   "metadata": {},
   "outputs": [],
   "source": [
    "columns = [\n",
    "    'Num_HBond',\n",
    "    'Num_Pication',\n",
    "    'Num_Pistack',\n",
    "    'Num_Hydrophobic',\n",
    "    'Num_Halogen',\n",
    "    'Res_HBond',\n",
    "    'Res_Pication',\n",
    "    'Res_Pistack',\n",
    "    'Res_Hydrophobic',\n",
    "    'Res_Halogen',\n",
    "]\n",
    "df = pd.DataFrame(profile_list, columns=columns)"
   ]
  },
  {
   "cell_type": "code",
   "execution_count": 14,
   "id": "ea6c9175-04d0-4f1a-ad28-0d700b51b52f",
   "metadata": {},
   "outputs": [
    {
     "data": {
      "text/html": [
       "<div>\n",
       "<style scoped>\n",
       "    .dataframe tbody tr th:only-of-type {\n",
       "        vertical-align: middle;\n",
       "    }\n",
       "\n",
       "    .dataframe tbody tr th {\n",
       "        vertical-align: top;\n",
       "    }\n",
       "\n",
       "    .dataframe thead th {\n",
       "        text-align: right;\n",
       "    }\n",
       "</style>\n",
       "<table border=\"1\" class=\"dataframe\">\n",
       "  <thead>\n",
       "    <tr style=\"text-align: right;\">\n",
       "      <th></th>\n",
       "      <th>Num_HBond</th>\n",
       "      <th>Num_Pication</th>\n",
       "      <th>Num_Pistack</th>\n",
       "      <th>Num_Hydrophobic</th>\n",
       "      <th>Num_Halogen</th>\n",
       "      <th>Res_HBond</th>\n",
       "      <th>Res_Pication</th>\n",
       "      <th>Res_Pistack</th>\n",
       "      <th>Res_Hydrophobic</th>\n",
       "      <th>Res_Halogen</th>\n",
       "    </tr>\n",
       "  </thead>\n",
       "  <tbody>\n",
       "    <tr>\n",
       "      <th>0</th>\n",
       "      <td>1</td>\n",
       "      <td>0</td>\n",
       "      <td>1</td>\n",
       "      <td>5</td>\n",
       "      <td>0</td>\n",
       "      <td>905</td>\n",
       "      <td></td>\n",
       "      <td>905</td>\n",
       "      <td>884:890:901:902:905</td>\n",
       "      <td></td>\n",
       "    </tr>\n",
       "    <tr>\n",
       "      <th>1</th>\n",
       "      <td>1</td>\n",
       "      <td>0</td>\n",
       "      <td>1</td>\n",
       "      <td>5</td>\n",
       "      <td>0</td>\n",
       "      <td>905</td>\n",
       "      <td></td>\n",
       "      <td>905</td>\n",
       "      <td>884:890:901:902:905</td>\n",
       "      <td></td>\n",
       "    </tr>\n",
       "    <tr>\n",
       "      <th>2</th>\n",
       "      <td>2</td>\n",
       "      <td>0</td>\n",
       "      <td>1</td>\n",
       "      <td>4</td>\n",
       "      <td>1</td>\n",
       "      <td>878:905</td>\n",
       "      <td></td>\n",
       "      <td>905</td>\n",
       "      <td>884:890:901:905</td>\n",
       "      <td>902</td>\n",
       "    </tr>\n",
       "    <tr>\n",
       "      <th>3</th>\n",
       "      <td>2</td>\n",
       "      <td>0</td>\n",
       "      <td>1</td>\n",
       "      <td>5</td>\n",
       "      <td>1</td>\n",
       "      <td>878:901</td>\n",
       "      <td></td>\n",
       "      <td>905</td>\n",
       "      <td>884:890:901:902:905</td>\n",
       "      <td>902</td>\n",
       "    </tr>\n",
       "    <tr>\n",
       "      <th>4</th>\n",
       "      <td>1</td>\n",
       "      <td>0</td>\n",
       "      <td>1</td>\n",
       "      <td>5</td>\n",
       "      <td>0</td>\n",
       "      <td>905</td>\n",
       "      <td></td>\n",
       "      <td>905</td>\n",
       "      <td>884:890:901:902:905</td>\n",
       "      <td></td>\n",
       "    </tr>\n",
       "    <tr>\n",
       "      <th>5</th>\n",
       "      <td>2</td>\n",
       "      <td>0</td>\n",
       "      <td>1</td>\n",
       "      <td>5</td>\n",
       "      <td>0</td>\n",
       "      <td>884:905</td>\n",
       "      <td></td>\n",
       "      <td>905</td>\n",
       "      <td>884:890:901:902:905</td>\n",
       "      <td></td>\n",
       "    </tr>\n",
       "    <tr>\n",
       "      <th>6</th>\n",
       "      <td>2</td>\n",
       "      <td>0</td>\n",
       "      <td>1</td>\n",
       "      <td>4</td>\n",
       "      <td>1</td>\n",
       "      <td>878:905</td>\n",
       "      <td></td>\n",
       "      <td>905</td>\n",
       "      <td>884:890:901:905</td>\n",
       "      <td>898</td>\n",
       "    </tr>\n",
       "    <tr>\n",
       "      <th>7</th>\n",
       "      <td>2</td>\n",
       "      <td>0</td>\n",
       "      <td>1</td>\n",
       "      <td>5</td>\n",
       "      <td>1</td>\n",
       "      <td>878:901</td>\n",
       "      <td></td>\n",
       "      <td>905</td>\n",
       "      <td>878:884:890:901:905</td>\n",
       "      <td>902</td>\n",
       "    </tr>\n",
       "    <tr>\n",
       "      <th>8</th>\n",
       "      <td>1</td>\n",
       "      <td>0</td>\n",
       "      <td>1</td>\n",
       "      <td>3</td>\n",
       "      <td>0</td>\n",
       "      <td>905</td>\n",
       "      <td></td>\n",
       "      <td>890</td>\n",
       "      <td>884:901:902</td>\n",
       "      <td></td>\n",
       "    </tr>\n",
       "    <tr>\n",
       "      <th>9</th>\n",
       "      <td>1</td>\n",
       "      <td>0</td>\n",
       "      <td>1</td>\n",
       "      <td>3</td>\n",
       "      <td>0</td>\n",
       "      <td>901</td>\n",
       "      <td></td>\n",
       "      <td>890</td>\n",
       "      <td>884:901:902</td>\n",
       "      <td></td>\n",
       "    </tr>\n",
       "    <tr>\n",
       "      <th>10</th>\n",
       "      <td>2</td>\n",
       "      <td>0</td>\n",
       "      <td>0</td>\n",
       "      <td>3</td>\n",
       "      <td>1</td>\n",
       "      <td>878:905</td>\n",
       "      <td></td>\n",
       "      <td></td>\n",
       "      <td>890:901:905</td>\n",
       "      <td>898</td>\n",
       "    </tr>\n",
       "    <tr>\n",
       "      <th>11</th>\n",
       "      <td>2</td>\n",
       "      <td>0</td>\n",
       "      <td>1</td>\n",
       "      <td>2</td>\n",
       "      <td>1</td>\n",
       "      <td>878:901</td>\n",
       "      <td></td>\n",
       "      <td>890</td>\n",
       "      <td>884:901</td>\n",
       "      <td>902</td>\n",
       "    </tr>\n",
       "    <tr>\n",
       "      <th>12</th>\n",
       "      <td>2</td>\n",
       "      <td>0</td>\n",
       "      <td>0</td>\n",
       "      <td>6</td>\n",
       "      <td>0</td>\n",
       "      <td>884:905</td>\n",
       "      <td></td>\n",
       "      <td></td>\n",
       "      <td>878:884:890:901:902:905</td>\n",
       "      <td></td>\n",
       "    </tr>\n",
       "    <tr>\n",
       "      <th>13</th>\n",
       "      <td>1</td>\n",
       "      <td>0</td>\n",
       "      <td>0</td>\n",
       "      <td>5</td>\n",
       "      <td>0</td>\n",
       "      <td>901</td>\n",
       "      <td></td>\n",
       "      <td></td>\n",
       "      <td>884:890:901:902:905</td>\n",
       "      <td></td>\n",
       "    </tr>\n",
       "    <tr>\n",
       "      <th>14</th>\n",
       "      <td>2</td>\n",
       "      <td>0</td>\n",
       "      <td>1</td>\n",
       "      <td>5</td>\n",
       "      <td>1</td>\n",
       "      <td>878:879</td>\n",
       "      <td></td>\n",
       "      <td>905</td>\n",
       "      <td>878:884:890:901:905</td>\n",
       "      <td>902</td>\n",
       "    </tr>\n",
       "    <tr>\n",
       "      <th>15</th>\n",
       "      <td>3</td>\n",
       "      <td>0</td>\n",
       "      <td>1</td>\n",
       "      <td>5</td>\n",
       "      <td>1</td>\n",
       "      <td>878:879:901</td>\n",
       "      <td></td>\n",
       "      <td>905</td>\n",
       "      <td>878:884:890:901:905</td>\n",
       "      <td>902</td>\n",
       "    </tr>\n",
       "  </tbody>\n",
       "</table>\n",
       "</div>"
      ],
      "text/plain": [
       "    Num_HBond  Num_Pication  Num_Pistack  Num_Hydrophobic  Num_Halogen  \\\n",
       "0           1             0            1                5            0   \n",
       "1           1             0            1                5            0   \n",
       "2           2             0            1                4            1   \n",
       "3           2             0            1                5            1   \n",
       "4           1             0            1                5            0   \n",
       "5           2             0            1                5            0   \n",
       "6           2             0            1                4            1   \n",
       "7           2             0            1                5            1   \n",
       "8           1             0            1                3            0   \n",
       "9           1             0            1                3            0   \n",
       "10          2             0            0                3            1   \n",
       "11          2             0            1                2            1   \n",
       "12          2             0            0                6            0   \n",
       "13          1             0            0                5            0   \n",
       "14          2             0            1                5            1   \n",
       "15          3             0            1                5            1   \n",
       "\n",
       "      Res_HBond Res_Pication Res_Pistack          Res_Hydrophobic Res_Halogen  \n",
       "0           905                      905      884:890:901:902:905              \n",
       "1           905                      905      884:890:901:902:905              \n",
       "2       878:905                      905          884:890:901:905         902  \n",
       "3       878:901                      905      884:890:901:902:905         902  \n",
       "4           905                      905      884:890:901:902:905              \n",
       "5       884:905                      905      884:890:901:902:905              \n",
       "6       878:905                      905          884:890:901:905         898  \n",
       "7       878:901                      905      878:884:890:901:905         902  \n",
       "8           905                      890              884:901:902              \n",
       "9           901                      890              884:901:902              \n",
       "10      878:905                                       890:901:905         898  \n",
       "11      878:901                      890                  884:901         902  \n",
       "12      884:905                           878:884:890:901:902:905              \n",
       "13          901                               884:890:901:902:905              \n",
       "14      878:879                      905      878:884:890:901:905         902  \n",
       "15  878:879:901                      905      878:884:890:901:905         902  "
      ]
     },
     "execution_count": 14,
     "metadata": {},
     "output_type": "execute_result"
    }
   ],
   "source": [
    "df"
   ]
  }
 ],
 "metadata": {
  "kernelspec": {
   "display_name": "Python 3 (ipykernel)",
   "language": "python",
   "name": "python3"
  },
  "language_info": {
   "codemirror_mode": {
    "name": "ipython",
    "version": 3
   },
   "file_extension": ".py",
   "mimetype": "text/x-python",
   "name": "python",
   "nbconvert_exporter": "python",
   "pygments_lexer": "ipython3",
   "version": "3.10.13"
  }
 },
 "nbformat": 4,
 "nbformat_minor": 5
}
