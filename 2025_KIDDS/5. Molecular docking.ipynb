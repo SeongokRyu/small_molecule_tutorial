{
 "cells": [
  {
   "cell_type": "code",
   "execution_count": 24,
   "id": "ef1d9f5e-a5a8-4dc8-90b4-fde32d9d58fa",
   "metadata": {},
   "outputs": [],
   "source": [
    "import os\n",
    "import numpy as np"
   ]
  },
  {
   "cell_type": "markdown",
   "id": "388cf10c-b270-4319-b664-d2081b0ddec6",
   "metadata": {},
   "source": [
    "# 1. Download PDB File"
   ]
  },
  {
   "cell_type": "code",
   "execution_count": 2,
   "id": "c18f50b2-f692-4911-9ee4-dd12e1a56bf4",
   "metadata": {},
   "outputs": [],
   "source": [
    "pdb_id = '6SCM'\n",
    "pdb_link = 'https://files.rcsb.org/download/'+pdb_id+'.pdb'"
   ]
  },
  {
   "cell_type": "code",
   "execution_count": 3,
   "id": "55ccc8a6-efbf-4e43-a1ef-8f31e01fbc62",
   "metadata": {},
   "outputs": [
    {
     "name": "stderr",
     "output_type": "stream",
     "text": [
      "--2025-02-11 17:23:34--  https://files.rcsb.org/download/6SCM.pdb\n",
      "Resolving files.rcsb.org (files.rcsb.org)... 132.249.213.193\n",
      "Connecting to files.rcsb.org (files.rcsb.org)|132.249.213.193|:443... connected.\n",
      "HTTP request sent, awaiting response... 200 OK\n",
      "Length: unspecified [application/octet-stream]\n",
      "Saving to: ‘6SCM.pdb.4’\n",
      "\n",
      "     0K .......... .......... .......... .......... ..........  178K\n",
      "    50K .......... .......... .......... .......... ..........  358K\n",
      "   100K .......... .......... .......... .......... .......... 11.5M\n",
      "   150K .......... .......... .......... .......... .......... 1.24M\n",
      "   200K .......... .......... .......... .......... ..........  503K\n",
      "   250K .......... .......... .......... .......... .......... 10.9M\n",
      "   300K .......... .......... .......... .......... .......... 11.7M\n",
      "   350K .......... .......... .......... .......... .......... 12.4M\n",
      "   400K .......... .......... .......... .......... ..........  398K\n",
      "   450K .......... .......... .......... .......... .......... 12.5M\n",
      "   500K .......... .......... .......... .......... .......... 11.0M\n",
      "   550K .......... .......... .......... .......... .......... 12.5M\n",
      "   600K .......... .......... .......... .......... ..........  170K\n",
      "   650K .......... .......... .......... .......... .......... 97.7M\n",
      "   700K .......... .......... .......... .......... ..........  115M\n",
      "   750K .......... .......... .......... .......... .......... 99.6M\n",
      "   800K .......... .......... .......... .......... ..........  100M\n",
      "   850K .......... .......... .......... .......... ..........  101M\n",
      "   900K .......... .......... .......... .......... ..........  104M\n",
      "   950K .......... .......... .......... .......... ..........  114M\n",
      "  1000K .......... .......... .......... .......... .......... 95.9M\n",
      "  1050K .......... .......... .......... .......... ..........  111M\n",
      "  1100K .......... .......... .......... .......... ..........  104M\n",
      "  1150K .......... .......... .......... .......... ..........  110M\n",
      "  1200K .......... .......... .......... .......... .......... 97.9M\n",
      "  1250K .......... .......... .......... .......... ..........  103M\n",
      "  1300K .......... .......... ......                            128M=1.0s\n",
      "\n",
      "2025-02-11 17:23:36 (1.28 MB/s) - ‘6SCM.pdb.4’ saved [1358613]\n",
      "\n"
     ]
    },
    {
     "data": {
      "text/plain": [
       "0"
      ]
     },
     "execution_count": 3,
     "metadata": {},
     "output_type": "execute_result"
    }
   ],
   "source": [
    "os.system('wget ' + pdb_link)"
   ]
  },
  {
   "cell_type": "code",
   "execution_count": 4,
   "id": "8658723c-d4eb-474e-b49d-bd464034bad6",
   "metadata": {},
   "outputs": [],
   "source": [
    "f = open(pdb_id+'.pdb', 'r')\n",
    "lines = f.readlines()\n",
    "f.close()"
   ]
  },
  {
   "cell_type": "code",
   "execution_count": 5,
   "id": "133f56f2-d2ee-48ab-b7d5-84e39946b86f",
   "metadata": {},
   "outputs": [
    {
     "data": {
      "text/plain": [
       "['HEADER    ONCOPROTEIN                             24-JUL-19   6SCM              \\n',\n",
       " 'TITLE     SOS1 IN COMPLEX WITH INHIBITOR BI-3406                                \\n',\n",
       " 'COMPND    MOL_ID: 1;                                                            \\n',\n",
       " 'COMPND   2 MOLECULE: SON OF SEVENLESS HOMOLOG 1;                                \\n',\n",
       " 'COMPND   3 CHAIN: A;                                                            \\n',\n",
       " 'COMPND   4 SYNONYM: SOS-1;                                                      \\n',\n",
       " 'COMPND   5 ENGINEERED: YES                                                      \\n',\n",
       " 'SOURCE    MOL_ID: 1;                                                            \\n',\n",
       " 'SOURCE   2 ORGANISM_SCIENTIFIC: HOMO SAPIENS;                                   \\n',\n",
       " 'SOURCE   3 ORGANISM_COMMON: HUMAN;                                              \\n']"
      ]
     },
     "execution_count": 5,
     "metadata": {},
     "output_type": "execute_result"
    }
   ],
   "source": [
    "lines[:10]"
   ]
  },
  {
   "cell_type": "markdown",
   "id": "3b0631ad-aa99-463d-931d-063fce6e0a85",
   "metadata": {},
   "source": [
    "# 2. Preprocess the PDB file with biotite"
   ]
  },
  {
   "cell_type": "code",
   "execution_count": 6,
   "id": "00bf8f07-79ee-416f-a312-929bc3d06bb7",
   "metadata": {},
   "outputs": [],
   "source": [
    "from biotite.database.rcsb import fetch\n",
    "from biotite.structure.io.pdb import PDBFile\n",
    "from biotite.structure import filter_amino_acids, filter_nucleotides, get_residues"
   ]
  },
  {
   "cell_type": "code",
   "execution_count": 7,
   "id": "680802fd-7956-420c-862d-99735765b8a9",
   "metadata": {},
   "outputs": [
    {
     "data": {
      "text/plain": [
       "<biotite.structure.io.pdb.PDBFile at 0x1552d9f0ae00>"
      ]
     },
     "execution_count": 7,
     "metadata": {},
     "output_type": "execute_result"
    }
   ],
   "source": [
    "pdb = PDBFile.read('6SCM.pdb')\n",
    "pdb"
   ]
  },
  {
   "cell_type": "code",
   "execution_count": 8,
   "id": "f6bac252-6ec0-4c39-a207-48b7039b7f32",
   "metadata": {},
   "outputs": [],
   "source": [
    "structure = pdb.get_structure()[0]"
   ]
  },
  {
   "cell_type": "code",
   "execution_count": 9,
   "id": "b2d1e637-bf5e-49bd-83ae-3637b5ff2886",
   "metadata": {},
   "outputs": [
    {
     "data": {
      "text/plain": [
       "array([\n",
       "\tAtom(np.array([ -1.517,  28.657, -10.076], dtype=float32), chain_id=\"A\", res_id=564, ins_code=\"\", res_name=\"GLU\", hetero=False, atom_name=\"N\", element=\"N\"),\n",
       "\tAtom(np.array([ -0.265,  29.124, -10.681], dtype=float32), chain_id=\"A\", res_id=564, ins_code=\"\", res_name=\"GLU\", hetero=False, atom_name=\"CA\", element=\"C\"),\n",
       "\tAtom(np.array([  0.551,  27.949, -11.193], dtype=float32), chain_id=\"A\", res_id=564, ins_code=\"\", res_name=\"GLU\", hetero=False, atom_name=\"C\", element=\"C\"),\n",
       "\tAtom(np.array([  1.762,  27.912, -10.974], dtype=float32), chain_id=\"A\", res_id=564, ins_code=\"\", res_name=\"GLU\", hetero=False, atom_name=\"O\", element=\"O\"),\n",
       "\tAtom(np.array([ 0.557, 29.925, -9.659], dtype=float32), chain_id=\"A\", res_id=564, ins_code=\"\", res_name=\"GLU\", hetero=False, atom_name=\"CB\", element=\"C\"),\n",
       "\tAtom(np.array([ -0.488,  29.754, -11.537], dtype=float32), chain_id=\"A\", res_id=564, ins_code=\"\", res_name=\"GLU\", hetero=False, atom_name=\"HA\", element=\"H\"),\n",
       "\tAtom(np.array([ -0.093,  27.049, -11.958], dtype=float32), chain_id=\"A\", res_id=565, ins_code=\"\", res_name=\"GLU\", hetero=False, atom_name=\"N\", element=\"N\"),\n",
       "\tAtom(np.array([  0.437,  25.774, -12.458], dtype=float32), chain_id=\"A\", res_id=565, ins_code=\"\", res_name=\"GLU\", hetero=False, atom_name=\"CA\", element=\"C\"),\n",
       "\tAtom(np.array([  1.975,  25.611, -12.444], dtype=float32), chain_id=\"A\", res_id=565, ins_code=\"\", res_name=\"GLU\", hetero=False, atom_name=\"C\", element=\"C\"),\n",
       "\tAtom(np.array([  2.47 ,  24.974, -11.515], dtype=float32), chain_id=\"A\", res_id=565, ins_code=\"\", res_name=\"GLU\", hetero=False, atom_name=\"O\", element=\"O\")\n",
       "])"
      ]
     },
     "execution_count": 9,
     "metadata": {},
     "output_type": "execute_result"
    }
   ],
   "source": [
    "structure[:10]"
   ]
  },
  {
   "cell_type": "code",
   "execution_count": 10,
   "id": "fa7ecba0-a660-4637-b88a-95ce6badca63",
   "metadata": {},
   "outputs": [
    {
     "data": {
      "text/plain": [
       "biotite.structure.AtomArray"
      ]
     },
     "execution_count": 10,
     "metadata": {},
     "output_type": "execute_result"
    }
   ],
   "source": [
    "type(structure)"
   ]
  },
  {
   "cell_type": "code",
   "execution_count": 11,
   "id": "a89fad93-d816-48dd-be99-a13906b3d2f6",
   "metadata": {},
   "outputs": [
    {
     "data": {
      "text/plain": [
       "array([ True,  True,  True, ..., False, False, False], shape=(8217,))"
      ]
     },
     "execution_count": 11,
     "metadata": {},
     "output_type": "execute_result"
    }
   ],
   "source": [
    "filter_amino_acids(structure) | filter_nucleotides(structure)"
   ]
  },
  {
   "cell_type": "code",
   "execution_count": 12,
   "id": "f906a1eb-cd93-47ff-8837-eb49b99d2581",
   "metadata": {},
   "outputs": [
    {
     "data": {
      "text/plain": [
       "array([\n",
       "\tAtom(np.array([ -1.517,  28.657, -10.076], dtype=float32), chain_id=\"A\", res_id=564, ins_code=\"\", res_name=\"GLU\", hetero=False, atom_name=\"N\", element=\"N\"),\n",
       "\tAtom(np.array([ -0.265,  29.124, -10.681], dtype=float32), chain_id=\"A\", res_id=564, ins_code=\"\", res_name=\"GLU\", hetero=False, atom_name=\"CA\", element=\"C\"),\n",
       "\tAtom(np.array([  0.551,  27.949, -11.193], dtype=float32), chain_id=\"A\", res_id=564, ins_code=\"\", res_name=\"GLU\", hetero=False, atom_name=\"C\", element=\"C\"),\n",
       "\tAtom(np.array([  1.762,  27.912, -10.974], dtype=float32), chain_id=\"A\", res_id=564, ins_code=\"\", res_name=\"GLU\", hetero=False, atom_name=\"O\", element=\"O\"),\n",
       "\tAtom(np.array([ 0.557, 29.925, -9.659], dtype=float32), chain_id=\"A\", res_id=564, ins_code=\"\", res_name=\"GLU\", hetero=False, atom_name=\"CB\", element=\"C\"),\n",
       "\tAtom(np.array([ -0.488,  29.754, -11.537], dtype=float32), chain_id=\"A\", res_id=564, ins_code=\"\", res_name=\"GLU\", hetero=False, atom_name=\"HA\", element=\"H\"),\n",
       "\tAtom(np.array([ -0.093,  27.049, -11.958], dtype=float32), chain_id=\"A\", res_id=565, ins_code=\"\", res_name=\"GLU\", hetero=False, atom_name=\"N\", element=\"N\"),\n",
       "\tAtom(np.array([  0.437,  25.774, -12.458], dtype=float32), chain_id=\"A\", res_id=565, ins_code=\"\", res_name=\"GLU\", hetero=False, atom_name=\"CA\", element=\"C\"),\n",
       "\tAtom(np.array([  1.975,  25.611, -12.444], dtype=float32), chain_id=\"A\", res_id=565, ins_code=\"\", res_name=\"GLU\", hetero=False, atom_name=\"C\", element=\"C\"),\n",
       "\tAtom(np.array([  2.47 ,  24.974, -11.515], dtype=float32), chain_id=\"A\", res_id=565, ins_code=\"\", res_name=\"GLU\", hetero=False, atom_name=\"O\", element=\"O\")\n",
       "])"
      ]
     },
     "execution_count": 12,
     "metadata": {},
     "output_type": "execute_result"
    }
   ],
   "source": [
    "receptor = structure[filter_amino_acids(structure) | filter_nucleotides(structure)]\n",
    "receptor[:10]"
   ]
  },
  {
   "cell_type": "code",
   "execution_count": 13,
   "id": "e839c37b-964e-4ddf-91e0-bb1f74931876",
   "metadata": {},
   "outputs": [
    {
     "data": {
      "text/plain": [
       "array([\n",
       "\tAtom(np.array([  2.886, -36.789, -46.877], dtype=float32), chain_id=\"A\", res_id=1101, ins_code=\"\", res_name=\"IMD\", hetero=True, atom_name=\"N1\", element=\"N\"),\n",
       "\tAtom(np.array([  1.664, -36.339, -46.689], dtype=float32), chain_id=\"A\", res_id=1101, ins_code=\"\", res_name=\"IMD\", hetero=True, atom_name=\"C2\", element=\"C\"),\n",
       "\tAtom(np.array([  0.832, -37.358, -46.734], dtype=float32), chain_id=\"A\", res_id=1101, ins_code=\"\", res_name=\"IMD\", hetero=True, atom_name=\"N3\", element=\"N\"),\n",
       "\tAtom(np.array([  1.544, -38.493, -46.965], dtype=float32), chain_id=\"A\", res_id=1101, ins_code=\"\", res_name=\"IMD\", hetero=True, atom_name=\"C4\", element=\"C\"),\n",
       "\tAtom(np.array([  2.832, -38.138, -47.048], dtype=float32), chain_id=\"A\", res_id=1101, ins_code=\"\", res_name=\"IMD\", hetero=True, atom_name=\"C5\", element=\"C\"),\n",
       "\tAtom(np.array([ -0.54 , -33.13 , -46.901], dtype=float32), chain_id=\"A\", res_id=1102, ins_code=\"\", res_name=\"IMD\", hetero=True, atom_name=\"N1\", element=\"N\"),\n",
       "\tAtom(np.array([ -0.684, -34.171, -46.112], dtype=float32), chain_id=\"A\", res_id=1102, ins_code=\"\", res_name=\"IMD\", hetero=True, atom_name=\"C2\", element=\"C\"),\n",
       "\tAtom(np.array([ -1.959, -34.289, -45.806], dtype=float32), chain_id=\"A\", res_id=1102, ins_code=\"\", res_name=\"IMD\", hetero=True, atom_name=\"N3\", element=\"N\"),\n",
       "\tAtom(np.array([ -2.648, -33.29 , -46.42 ], dtype=float32), chain_id=\"A\", res_id=1102, ins_code=\"\", res_name=\"IMD\", hetero=True, atom_name=\"C4\", element=\"C\"),\n",
       "\tAtom(np.array([ -1.757, -32.56 , -47.1  ], dtype=float32), chain_id=\"A\", res_id=1102, ins_code=\"\", res_name=\"IMD\", hetero=True, atom_name=\"C5\", element=\"C\")\n",
       "])"
      ]
     },
     "execution_count": 13,
     "metadata": {},
     "output_type": "execute_result"
    }
   ],
   "source": [
    "ligand = structure[~(filter_amino_acids(structure) | filter_nucleotides(structure))]\n",
    "ligand[:10]"
   ]
  },
  {
   "cell_type": "code",
   "execution_count": 14,
   "id": "a6fc048b-23c0-4b1c-927f-f214032a5fc8",
   "metadata": {},
   "outputs": [
    {
     "data": {
      "text/plain": [
       "array([\n",
       "\tAtom(np.array([  1.563, -29.459, -44.86 ], dtype=float32), chain_id=\"A\", res_id=1108, ins_code=\"\", res_name=\"L7H\", hetero=True, atom_name=\"C4\", element=\"C\"),\n",
       "\tAtom(np.array([ -0.792, -29.412, -45.498], dtype=float32), chain_id=\"A\", res_id=1108, ins_code=\"\", res_name=\"L7H\", hetero=True, atom_name=\"C5\", element=\"C\"),\n",
       "\tAtom(np.array([  0.242, -29.932, -44.68 ], dtype=float32), chain_id=\"A\", res_id=1108, ins_code=\"\", res_name=\"L7H\", hetero=True, atom_name=\"C6\", element=\"C\"),\n",
       "\tAtom(np.array([ -0.161, -30.93 , -43.717], dtype=float32), chain_id=\"A\", res_id=1108, ins_code=\"\", res_name=\"L7H\", hetero=True, atom_name=\"C7\", element=\"C\"),\n",
       "\tAtom(np.array([  0.706, -31.505, -42.851], dtype=float32), chain_id=\"A\", res_id=1108, ins_code=\"\", res_name=\"L7H\", hetero=True, atom_name=\"N12\", element=\"N\"),\n",
       "\tAtom(np.array([ -3.752, -31.218, -44.299], dtype=float32), chain_id=\"A\", res_id=1108, ins_code=\"\", res_name=\"L7H\", hetero=True, atom_name=\"C13\", element=\"C\"),\n",
       "\tAtom(np.array([  0.287, -26.54 , -48.453], dtype=float32), chain_id=\"A\", res_id=1108, ins_code=\"\", res_name=\"L7H\", hetero=True, atom_name=\"C15\", element=\"C\"),\n",
       "\tAtom(np.array([  5.291, -27.188, -45.383], dtype=float32), chain_id=\"A\", res_id=1108, ins_code=\"\", res_name=\"L7H\", hetero=True, atom_name=\"C17\", element=\"C\"),\n",
       "\tAtom(np.array([  4.999, -29.537, -45.75 ], dtype=float32), chain_id=\"A\", res_id=1108, ins_code=\"\", res_name=\"L7H\", hetero=True, atom_name=\"C20\", element=\"C\"),\n",
       "\tAtom(np.array([  0.383, -32.527, -41.844], dtype=float32), chain_id=\"A\", res_id=1108, ins_code=\"\", res_name=\"L7H\", hetero=True, atom_name=\"C21\", element=\"C\"),\n",
       "\tAtom(np.array([  0.807, -33.9  , -42.329], dtype=float32), chain_id=\"A\", res_id=1108, ins_code=\"\", res_name=\"L7H\", hetero=True, atom_name=\"C22\", element=\"C\"),\n",
       "\tAtom(np.array([  2.15 , -34.224, -42.512], dtype=float32), chain_id=\"A\", res_id=1108, ins_code=\"\", res_name=\"L7H\", hetero=True, atom_name=\"C24\", element=\"C\"),\n",
       "\tAtom(np.array([  1.542, -36.416, -43.27 ], dtype=float32), chain_id=\"A\", res_id=1108, ins_code=\"\", res_name=\"L7H\", hetero=True, atom_name=\"C26\", element=\"C\"),\n",
       "\tAtom(np.array([ -0.161, -34.843, -42.651], dtype=float32), chain_id=\"A\", res_id=1108, ins_code=\"\", res_name=\"L7H\", hetero=True, atom_name=\"C28\", element=\"C\"),\n",
       "\tAtom(np.array([ -0.473, -28.435, -46.472], dtype=float32), chain_id=\"A\", res_id=1108, ins_code=\"\", res_name=\"L7H\", hetero=True, atom_name=\"C1\", element=\"C\"),\n",
       "\tAtom(np.array([  4.283, -28.315, -45.209], dtype=float32), chain_id=\"A\", res_id=1108, ins_code=\"\", res_name=\"L7H\", hetero=True, atom_name=\"C16\", element=\"C\"),\n",
       "\tAtom(np.array([  5.896, -28.93 , -46.788], dtype=float32), chain_id=\"A\", res_id=1108, ins_code=\"\", res_name=\"L7H\", hetero=True, atom_name=\"C19\", element=\"C\"),\n",
       "\tAtom(np.array([  0.815, -27.994, -46.62 ], dtype=float32), chain_id=\"A\", res_id=1108, ins_code=\"\", res_name=\"L7H\", hetero=True, atom_name=\"C2\", element=\"C\"),\n",
       "\tAtom(np.array([  1.056, -32.151, -40.527], dtype=float32), chain_id=\"A\", res_id=1108, ins_code=\"\", res_name=\"L7H\", hetero=True, atom_name=\"C23\", element=\"C\"),\n",
       "\tAtom(np.array([  2.538, -35.484, -42.971], dtype=float32), chain_id=\"A\", res_id=1108, ins_code=\"\", res_name=\"L7H\", hetero=True, atom_name=\"C25\", element=\"C\"),\n",
       "\tAtom(np.array([  0.195, -36.109, -43.102], dtype=float32), chain_id=\"A\", res_id=1108, ins_code=\"\", res_name=\"L7H\", hetero=True, atom_name=\"C27\", element=\"C\"),\n",
       "\tAtom(np.array([ -0.87 , -37.106, -43.428], dtype=float32), chain_id=\"A\", res_id=1108, ins_code=\"\", res_name=\"L7H\", hetero=True, atom_name=\"C29\", element=\"C\"),\n",
       "\tAtom(np.array([  1.845, -28.513, -45.8  ], dtype=float32), chain_id=\"A\", res_id=1108, ins_code=\"\", res_name=\"L7H\", hetero=True, atom_name=\"C3\", element=\"C\"),\n",
       "\tAtom(np.array([ -2.342, -30.742, -44.436], dtype=float32), chain_id=\"A\", res_id=1108, ins_code=\"\", res_name=\"L7H\", hetero=True, atom_name=\"C9\", element=\"C\"),\n",
       "\tAtom(np.array([ -1.776, -36.615, -44.259], dtype=float32), chain_id=\"A\", res_id=1108, ins_code=\"\", res_name=\"L7H\", hetero=True, atom_name=\"F30\", element=\"F\"),\n",
       "\tAtom(np.array([ -0.412, -38.231, -43.984], dtype=float32), chain_id=\"A\", res_id=1108, ins_code=\"\", res_name=\"L7H\", hetero=True, atom_name=\"F31\", element=\"F\"),\n",
       "\tAtom(np.array([ -1.567, -37.466, -42.368], dtype=float32), chain_id=\"A\", res_id=1108, ins_code=\"\", res_name=\"L7H\", hetero=True, atom_name=\"F32\", element=\"F\"),\n",
       "\tAtom(np.array([ -2.097, -29.824, -45.389], dtype=float32), chain_id=\"A\", res_id=1108, ins_code=\"\", res_name=\"L7H\", hetero=True, atom_name=\"N10\", element=\"N\"),\n",
       "\tAtom(np.array([  3.873, -35.794, -43.131], dtype=float32), chain_id=\"A\", res_id=1108, ins_code=\"\", res_name=\"L7H\", hetero=True, atom_name=\"N33\", element=\"N\"),\n",
       "\tAtom(np.array([ -1.43 , -31.324, -43.646], dtype=float32), chain_id=\"A\", res_id=1108, ins_code=\"\", res_name=\"L7H\", hetero=True, atom_name=\"N8\", element=\"N\"),\n",
       "\tAtom(np.array([  3.103, -28.003, -46.031], dtype=float32), chain_id=\"A\", res_id=1108, ins_code=\"\", res_name=\"L7H\", hetero=True, atom_name=\"O11\", element=\"O\"),\n",
       "\tAtom(np.array([  1.231, -27.042, -47.512], dtype=float32), chain_id=\"A\", res_id=1108, ins_code=\"\", res_name=\"L7H\", hetero=True, atom_name=\"O14\", element=\"O\"),\n",
       "\tAtom(np.array([  6.279, -27.688, -46.263], dtype=float32), chain_id=\"A\", res_id=1108, ins_code=\"\", res_name=\"L7H\", hetero=True, atom_name=\"O18\", element=\"O\"),\n",
       "\tAtom(np.array([  2.348, -29.862, -44.228], dtype=float32), chain_id=\"A\", res_id=1108, ins_code=\"\", res_name=\"L7H\", hetero=True, atom_name=\"H35\", element=\"H\"),\n",
       "\tAtom(np.array([  1.685, -31.25 , -42.894], dtype=float32), chain_id=\"A\", res_id=1108, ins_code=\"\", res_name=\"L7H\", hetero=True, atom_name=\"H36\", element=\"H\"),\n",
       "\tAtom(np.array([ -4.236, -31.476, -45.239], dtype=float32), chain_id=\"A\", res_id=1108, ins_code=\"\", res_name=\"L7H\", hetero=True, atom_name=\"H39\", element=\"H\"),\n",
       "\tAtom(np.array([ -4.37 , -30.457, -43.827], dtype=float32), chain_id=\"A\", res_id=1108, ins_code=\"\", res_name=\"L7H\", hetero=True, atom_name=\"H37\", element=\"H\"),\n",
       "\tAtom(np.array([ -3.805, -32.099, -43.664], dtype=float32), chain_id=\"A\", res_id=1108, ins_code=\"\", res_name=\"L7H\", hetero=True, atom_name=\"H38\", element=\"H\"),\n",
       "\tAtom(np.array([  0.913, -25.855, -49.022], dtype=float32), chain_id=\"A\", res_id=1108, ins_code=\"\", res_name=\"L7H\", hetero=True, atom_name=\"H40\", element=\"H\"),\n",
       "\tAtom(np.array([ -0.522, -25.981, -47.986], dtype=float32), chain_id=\"A\", res_id=1108, ins_code=\"\", res_name=\"L7H\", hetero=True, atom_name=\"H41\", element=\"H\"),\n",
       "\tAtom(np.array([ -0.113, -27.303, -49.118], dtype=float32), chain_id=\"A\", res_id=1108, ins_code=\"\", res_name=\"L7H\", hetero=True, atom_name=\"H42\", element=\"H\"),\n",
       "\tAtom(np.array([  4.903, -26.278, -45.84 ], dtype=float32), chain_id=\"A\", res_id=1108, ins_code=\"\", res_name=\"L7H\", hetero=True, atom_name=\"H45\", element=\"H\"),\n",
       "\tAtom(np.array([  5.806, -26.891, -44.471], dtype=float32), chain_id=\"A\", res_id=1108, ins_code=\"\", res_name=\"L7H\", hetero=True, atom_name=\"H44\", element=\"H\"),\n",
       "\tAtom(np.array([  5.562, -30.07 , -44.985], dtype=float32), chain_id=\"A\", res_id=1108, ins_code=\"\", res_name=\"L7H\", hetero=True, atom_name=\"H49\", element=\"H\"),\n",
       "\tAtom(np.array([  4.319, -30.275, -46.171], dtype=float32), chain_id=\"A\", res_id=1108, ins_code=\"\", res_name=\"L7H\", hetero=True, atom_name=\"H48\", element=\"H\"),\n",
       "\tAtom(np.array([ -0.691, -32.55 , -41.67 ], dtype=float32), chain_id=\"A\", res_id=1108, ins_code=\"\", res_name=\"L7H\", hetero=True, atom_name=\"H50\", element=\"H\"),\n",
       "\tAtom(np.array([  2.921, -33.488, -42.294], dtype=float32), chain_id=\"A\", res_id=1108, ins_code=\"\", res_name=\"L7H\", hetero=True, atom_name=\"H54\", element=\"H\"),\n",
       "\tAtom(np.array([  1.861, -37.386, -43.646], dtype=float32), chain_id=\"A\", res_id=1108, ins_code=\"\", res_name=\"L7H\", hetero=True, atom_name=\"H55\", element=\"H\"),\n",
       "\tAtom(np.array([ -1.217, -34.615, -42.515], dtype=float32), chain_id=\"A\", res_id=1108, ins_code=\"\", res_name=\"L7H\", hetero=True, atom_name=\"H56\", element=\"H\"),\n",
       "\tAtom(np.array([ -1.309, -28.09 , -47.077], dtype=float32), chain_id=\"A\", res_id=1108, ins_code=\"\", res_name=\"L7H\", hetero=True, atom_name=\"H34\", element=\"H\"),\n",
       "\tAtom(np.array([  4.034, -28.434, -44.156], dtype=float32), chain_id=\"A\", res_id=1108, ins_code=\"\", res_name=\"L7H\", hetero=True, atom_name=\"H43\", element=\"H\"),\n",
       "\tAtom(np.array([  6.813, -29.479, -46.988], dtype=float32), chain_id=\"A\", res_id=1108, ins_code=\"\", res_name=\"L7H\", hetero=True, atom_name=\"H46\", element=\"H\"),\n",
       "\tAtom(np.array([  5.406, -28.774, -47.748], dtype=float32), chain_id=\"A\", res_id=1108, ins_code=\"\", res_name=\"L7H\", hetero=True, atom_name=\"H47\", element=\"H\"),\n",
       "\tAtom(np.array([  1.976, -32.703, -40.336], dtype=float32), chain_id=\"A\", res_id=1108, ins_code=\"\", res_name=\"L7H\", hetero=True, atom_name=\"H53\", element=\"H\"),\n",
       "\tAtom(np.array([  0.395, -32.368, -39.689], dtype=float32), chain_id=\"A\", res_id=1108, ins_code=\"\", res_name=\"L7H\", hetero=True, atom_name=\"H51\", element=\"H\"),\n",
       "\tAtom(np.array([  1.307, -31.094, -40.473], dtype=float32), chain_id=\"A\", res_id=1108, ins_code=\"\", res_name=\"L7H\", hetero=True, atom_name=\"H52\", element=\"H\"),\n",
       "\tAtom(np.array([  4.158, -36.692, -43.506], dtype=float32), chain_id=\"A\", res_id=1108, ins_code=\"\", res_name=\"L7H\", hetero=True, atom_name=\"H58\", element=\"H\"),\n",
       "\tAtom(np.array([  4.601, -35.123, -42.911], dtype=float32), chain_id=\"A\", res_id=1108, ins_code=\"\", res_name=\"L7H\", hetero=True, atom_name=\"H57\", element=\"H\")\n",
       "])"
      ]
     },
     "execution_count": 14,
     "metadata": {},
     "output_type": "execute_result"
    }
   ],
   "source": [
    "ligand = ligand[ligand.res_name == 'L7H']\n",
    "ligand"
   ]
  },
  {
   "cell_type": "code",
   "execution_count": 15,
   "id": "258eddf9-1480-40d5-8e12-1618c9ffa9b3",
   "metadata": {},
   "outputs": [],
   "source": [
    "receptor_pdb = PDBFile()\n",
    "receptor_pdb.set_structure(receptor)\n",
    "receptor_pdb.write('receptor.pdb')"
   ]
  },
  {
   "cell_type": "code",
   "execution_count": 16,
   "id": "7dd26eb8-73cb-4aec-a648-638aa11efb10",
   "metadata": {},
   "outputs": [],
   "source": [
    "ligand_pdb = PDBFile()\n",
    "ligand_pdb.set_structure(ligand)\n",
    "ligand_pdb.write('ligand.pdb')"
   ]
  },
  {
   "cell_type": "markdown",
   "id": "1e3f6708-db0e-4a23-9309-70bc242fb6c8",
   "metadata": {},
   "source": [
    "# 3. Convert PDB File to PDBQT"
   ]
  },
  {
   "cell_type": "code",
   "execution_count": 17,
   "id": "7eb573f2-6978-4687-806f-36291e9a9bcd",
   "metadata": {},
   "outputs": [],
   "source": [
    "import subprocess"
   ]
  },
  {
   "cell_type": "code",
   "execution_count": 27,
   "id": "47e09c40-6c67-4e46-b894-65c9d471a421",
   "metadata": {},
   "outputs": [],
   "source": [
    "receptor_cmd = 'obabel receptor.pdb -O receptor.pdbqt -xr -p 7.4 --partialcharge'\n",
    "ligand_cmd = 'obabel ligand.pdb -O ligand.pdbqt --delH --addH'"
   ]
  },
  {
   "cell_type": "code",
   "execution_count": 28,
   "id": "d2f0a3ba-3e27-40b8-bc30-61f2d83f677d",
   "metadata": {},
   "outputs": [
    {
     "name": "stderr",
     "output_type": "stream",
     "text": [
      "1 molecule converted\n"
     ]
    },
    {
     "data": {
      "text/plain": [
       "0"
      ]
     },
     "execution_count": 28,
     "metadata": {},
     "output_type": "execute_result"
    }
   ],
   "source": [
    "#os.system(receptor_cmd)\n",
    "os.system(ligand_cmd)"
   ]
  },
  {
   "cell_type": "markdown",
   "id": "0a2e141b-d66a-417e-a984-5aec81972323",
   "metadata": {},
   "source": [
    "# 4. Perform docking with Vina"
   ]
  },
  {
   "cell_type": "code",
   "execution_count": 29,
   "id": "06dc0d58-4ef9-41bf-8720-69b4540e0287",
   "metadata": {},
   "outputs": [],
   "source": [
    "from vina import Vina"
   ]
  },
  {
   "cell_type": "code",
   "execution_count": 30,
   "id": "2e51618d-dfc9-466a-b11b-8bfb5cb2d0de",
   "metadata": {},
   "outputs": [],
   "source": [
    "vina = Vina()\n",
    "\n",
    "# Load receptor and ligand\n",
    "vina.set_receptor(\"receptor.pdbqt\")\n",
    "vina.set_ligand_from_file(\"ligand.pdbqt\")"
   ]
  },
  {
   "cell_type": "code",
   "execution_count": 33,
   "id": "3d8e6252-9f81-4e84-b6be-2699f584ec60",
   "metadata": {},
   "outputs": [],
   "source": [
    "ligand_coords = ligand.coord\n",
    "ligand_center = np.mean(ligand_coords, axis=0).tolist()"
   ]
  },
  {
   "cell_type": "code",
   "execution_count": 34,
   "id": "537186f4-0340-4329-aab6-edc13b50ac50",
   "metadata": {},
   "outputs": [
    {
     "name": "stdout",
     "output_type": "stream",
     "text": [
      "\n",
      "mode |   affinity | dist from best mode\n",
      "     | (kcal/mol) | rmsd l.b.| rmsd u.b.\n",
      "-----+------------+----------+----------\n",
      "   1       -9.529          0          0\n",
      "   2       -9.072      1.777       2.24\n",
      "   3       -7.959      1.253      1.529\n",
      "   4       -7.237      4.636      6.393\n",
      "   5       -7.226       5.11      8.424\n",
      "   6        -7.12      4.481      5.866\n",
      "   7       -7.084      4.799      6.994\n",
      "   8       -7.045      4.437      5.909\n",
      "   9        -7.03      5.101      8.324\n",
      "  10       -6.949      1.492      2.185\n",
      "  11       -6.638      5.183      8.327\n",
      "  12       -6.619      5.407      8.548\n",
      "  13       -6.504      5.425      8.526\n",
      "  14       -6.257      5.338      8.634\n",
      "  15       -5.953      2.718      3.609\n",
      "  16       -5.915      4.987      7.993\n",
      "  17       -5.828      3.543      5.956\n",
      "  18       -5.785      4.718      6.848\n",
      "  19       -5.699      4.693      7.753\n",
      "  20       -5.157      2.655      3.893\n",
      "Computing Vina grid ... Starting docking...\n",
      "done.\n",
      "Performing docking (random seed: 434241326) ... \n",
      "0%   10   20   30   40   50   60   70   80   90   100%\n",
      "|----|----|----|----|----|----|----|----|----|----|\n",
      "***************************************************\n",
      "Docking complete.\n"
     ]
    },
    {
     "name": "stderr",
     "output_type": "stream",
     "text": [
      "WARNING: At low exhaustiveness, it may be impossible to utilize all CPUs.\n"
     ]
    }
   ],
   "source": [
    "# Define the docking box\n",
    "vina.compute_vina_maps(center=ligand_center, box_size=[15, 15, 15])\n",
    "\n",
    "# Run docking\n",
    "print(\"Starting docking...\")\n",
    "results = vina.dock(exhaustiveness=8)\n",
    "\n",
    "# Output best result\n",
    "vina.write_poses(\"ligand_docked.pdbqt\", n_poses=5)\n",
    "print(\"Docking complete.\")"
   ]
  },
  {
   "cell_type": "code",
   "execution_count": null,
   "id": "337ce906-ad14-42d8-b8e5-6cb9a55a1ae4",
   "metadata": {},
   "outputs": [],
   "source": []
  },
  {
   "cell_type": "code",
   "execution_count": null,
   "id": "18a7bec6-55eb-48e3-8a20-474d67b019a2",
   "metadata": {},
   "outputs": [],
   "source": []
  }
 ],
 "metadata": {
  "kernelspec": {
   "display_name": "Python 3 (ipykernel)",
   "language": "python",
   "name": "python3"
  },
  "language_info": {
   "codemirror_mode": {
    "name": "ipython",
    "version": 3
   },
   "file_extension": ".py",
   "mimetype": "text/x-python",
   "name": "python",
   "nbconvert_exporter": "python",
   "pygments_lexer": "ipython3",
   "version": "3.10.13"
  }
 },
 "nbformat": 4,
 "nbformat_minor": 5
}
